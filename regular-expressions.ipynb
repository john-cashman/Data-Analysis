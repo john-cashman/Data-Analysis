{
 "cells": [
  {
   "cell_type": "markdown",
   "id": "molecular-conditioning",
   "metadata": {},
   "source": [
    "# Using regular expressions to clean up the CAO points data"
   ]
  },
  {
   "cell_type": "markdown",
   "id": "abandoned-objective",
   "metadata": {},
   "source": [
    "http://www.cao.ie/index.php?page=points&p=2021"
   ]
  },
  {
   "cell_type": "code",
   "execution_count": 1,
   "id": "sufficient-thread",
   "metadata": {},
   "outputs": [
    {
     "name": "stdout",
     "output_type": "stream",
     "text": [
      "done\n"
     ]
    }
   ],
   "source": [
    "# Importing the requests package so I can make HTTP requests\n",
    "import requests as rq\n",
    "\n",
    "#Import regualar expresions package\n",
    "import re\n",
    "\n",
    "#Import date and times. This allows to deal with date and time later.\n",
    "import datetime as dt\n",
    "\n",
    "print(\"done\")"
   ]
  },
  {
   "cell_type": "code",
   "execution_count": 2,
   "id": "physical-conversion",
   "metadata": {},
   "outputs": [
    {
     "data": {
      "text/plain": [
       "<Response [200]>"
      ]
     },
     "execution_count": 2,
     "metadata": {},
     "output_type": "execute_result"
    }
   ],
   "source": [
    "#fetches the cao points url\n",
    "resp = rq.get('http://www2.cao.ie/points/l8.php')\n",
    "#if the response is 200 everything is working ok so far\n",
    "resp"
   ]
  },
  {
   "cell_type": "markdown",
   "id": "plain-atlas",
   "metadata": {},
   "source": [
    "## Saving the original data set"
   ]
  },
  {
   "cell_type": "code",
   "execution_count": 3,
   "id": "buried-growth",
   "metadata": {},
   "outputs": [],
   "source": [
    "#getting the current date and time\n",
    "now = dt.datetime.now()\n",
    "\n",
    "#format as a string\n",
    "nowstr = now.strftime('%Y%m%d_%H%M%S')"
   ]
  },
  {
   "cell_type": "code",
   "execution_count": 4,
   "id": "broke-windows",
   "metadata": {},
   "outputs": [],
   "source": [
    "#creating a file path for original data\n",
    "path = 'data/cao2021_' + nowstr + '.html'"
   ]
  },
  {
   "cell_type": "code",
   "execution_count": 5,
   "id": "geological-north",
   "metadata": {},
   "outputs": [],
   "source": [
    "# fixing the encoding. The server on cao website uses the wrong encoding so changing it to cp1252.\n",
    "original_encoding = resp.encoding\n",
    "\n",
    "resp.encoding = 'cp1252'"
   ]
  },
  {
   "cell_type": "code",
   "execution_count": 6,
   "id": "backed-columbia",
   "metadata": {},
   "outputs": [],
   "source": [
    "#save the oringal html file to the path outlined above\n",
    "with open(path, 'w') as f:\n",
    "    f.write(resp.text)"
   ]
  },
  {
   "cell_type": "code",
   "execution_count": 7,
   "id": "attractive-lotus",
   "metadata": {},
   "outputs": [],
   "source": [
    "#the r at the start of the string below means raw. It prevents the backslash from being interpreted.\n",
    "\n",
    "re_course = re.compile(r'([A-Z]{2}[0-9]{3})  (.*)([0-9]{3})(\\*?) *')"
   ]
  },
  {
   "cell_type": "code",
   "execution_count": null,
   "id": "subtle-proposition",
   "metadata": {},
   "outputs": [],
   "source": []
  },
  {
   "cell_type": "markdown",
   "id": "million-consultation",
   "metadata": {},
   "source": [
    " This is a regular expression here. It is looking to fully match a pattern. The first part [A-Z] is saying return any uppercase characters from a-z, the second part is a quantifier and it states that there are two digits(this is because the code names for the courses all start with two letter digts) The third part is a number 0-9 (all the college courses follow the two letter digits with numbers and this is folloowed by a quantifier of 3.\n",
    "\n",
    "The line.decode part is to allow jupyter to read the lines as strings as opposed to bytes. Without this there would be an error."
   ]
  },
  {
   "cell_type": "code",
   "execution_count": 8,
   "id": "younger-custom",
   "metadata": {},
   "outputs": [
    {
     "name": "stdout",
     "output_type": "stream",
     "text": [
      "Total number of lines is 922.\n"
     ]
    }
   ],
   "source": [
    "path = 'data/cao2021_csv_' + nowstr + '.html'\n",
    "\n",
    "no_lines = 0\n",
    "#open the csv file for writing\n",
    "with open(path, 'w') as f:\n",
    "    #looping through the lines of the response content.\n",
    "    for line in resp.iter_lines():\n",
    "        #server on cao website says to decode with iso-8859-1. However, line that uses x96 isn't defined in iso-8859-1 so we are using the cp-1252 which includes x96.\n",
    "        dline = line.decode('cp1252')\n",
    "        #match the lines that represent courses.\n",
    "        if re_course.fullmatch(dline):\n",
    "            #add 1 to lines counter.\n",
    "            no_lines = no_lines + 1\n",
    "            \n",
    "            #split the lines where there are two or more spaces.\n",
    "            linesplit = re.split('  +', dline)\n",
    "            #join the substrings with commas in between.\n",
    "            f.write(','.join(linesplit) + '\\n')\n",
    "\n",
    "print(f\"Total number of lines is {no_lines}.\")"
   ]
  },
  {
   "cell_type": "code",
   "execution_count": null,
   "id": "generous-operator",
   "metadata": {},
   "outputs": [],
   "source": []
  }
 ],
 "metadata": {
  "kernelspec": {
   "display_name": "Python 3",
   "language": "python",
   "name": "python3"
  },
  "language_info": {
   "codemirror_mode": {
    "name": "ipython",
    "version": 3
   },
   "file_extension": ".py",
   "mimetype": "text/x-python",
   "name": "python",
   "nbconvert_exporter": "python",
   "pygments_lexer": "ipython3",
   "version": "3.9.2"
  }
 },
 "nbformat": 4,
 "nbformat_minor": 5
}
